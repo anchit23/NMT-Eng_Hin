{
 "cells": [
  {
   "cell_type": "code",
   "execution_count": 1,
   "metadata": {
    "colab": {
     "base_uri": "https://localhost:8080/",
     "height": 122
    },
    "colab_type": "code",
    "id": "4kpFfvPNgBHR",
    "outputId": "fbc0bb87-70a2-470e-b910-6e2cf2cc3c0e"
   },
   "outputs": [
    {
     "name": "stdout",
     "output_type": "stream",
     "text": [
      "Go to this URL in a browser: https://accounts.google.com/o/oauth2/auth?client_id=947318989803-6bn6qk8qdgf4n4g3pfee6491hc0brc4i.apps.googleusercontent.com&redirect_uri=urn%3aietf%3awg%3aoauth%3a2.0%3aoob&scope=email%20https%3a%2f%2fwww.googleapis.com%2fauth%2fdocs.test%20https%3a%2f%2fwww.googleapis.com%2fauth%2fdrive%20https%3a%2f%2fwww.googleapis.com%2fauth%2fdrive.photos.readonly%20https%3a%2f%2fwww.googleapis.com%2fauth%2fpeopleapi.readonly&response_type=code\n",
      "\n",
      "Enter your authorization code:\n",
      "··········\n",
      "Mounted at /content/drive\n"
     ]
    }
   ],
   "source": [
    "#Importing Google Drive to access Dataset\n",
    "from google.colab import drive\n",
    "drive.mount('/content/drive')"
   ]
  },
  {
   "cell_type": "code",
   "execution_count": 2,
   "metadata": {
    "colab": {
     "base_uri": "https://localhost:8080/",
     "height": 408
    },
    "colab_type": "code",
    "id": "VvDNFfxrlwK3",
    "outputId": "53df1c3f-c5da-4469-9f24-75db8ceefa8e"
   },
   "outputs": [
    {
     "name": "stdout",
     "output_type": "stream",
     "text": [
      "Mon Aug 17 16:38:14 2020       \n",
      "+-----------------------------------------------------------------------------+\n",
      "| NVIDIA-SMI 450.57       Driver Version: 418.67       CUDA Version: 10.1     |\n",
      "|-------------------------------+----------------------+----------------------+\n",
      "| GPU  Name        Persistence-M| Bus-Id        Disp.A | Volatile Uncorr. ECC |\n",
      "| Fan  Temp  Perf  Pwr:Usage/Cap|         Memory-Usage | GPU-Util  Compute M. |\n",
      "|                               |                      |               MIG M. |\n",
      "|===============================+======================+======================|\n",
      "|   0  Tesla P100-PCIE...  Off  | 00000000:00:04.0 Off |                    0 |\n",
      "| N/A   40C    P0    26W / 250W |      0MiB / 16280MiB |      0%      Default |\n",
      "|                               |                      |                 ERR! |\n",
      "+-------------------------------+----------------------+----------------------+\n",
      "                                                                               \n",
      "+-----------------------------------------------------------------------------+\n",
      "| Processes:                                                                  |\n",
      "|  GPU   GI   CI        PID   Type   Process name                  GPU Memory |\n",
      "|        ID   ID                                                   Usage      |\n",
      "|=============================================================================|\n",
      "|  No running processes found                                                 |\n",
      "+-----------------------------------------------------------------------------+\n",
      "Your runtime has 27.4 gigabytes of available RAM\n",
      "\n",
      "You are using a high-RAM runtime!\n"
     ]
    }
   ],
   "source": [
    "''' Code to check GPU type and RAM on google colab'''\n",
    "\n",
    "\n",
    "gpu_info = !nvidia-smi\n",
    "gpu_info = '\\n'.join(gpu_info)\n",
    "if gpu_info.find('failed') >= 0:\n",
    "  print('Select the Runtime > \"Change runtime type\" menu to enable a GPU accelerator, ')\n",
    "  print('and then re-execute this cell.')\n",
    "else:\n",
    "  print(gpu_info)\n",
    "\n",
    "\n",
    "  from psutil import virtual_memory\n",
    "ram_gb = virtual_memory().total / 1e9\n",
    "print('Your runtime has {:.1f} gigabytes of available RAM\\n'.format(ram_gb))\n",
    "\n",
    "if ram_gb < 20:\n",
    "  print('To enable a high-RAM runtime, select the Runtime > \"Change runtime type\"')\n",
    "  print('menu, and then select High-RAM in the Runtime shape dropdown. Then, ')\n",
    "  print('re-execute this cell.')\n",
    "else:\n",
    "  print('You are using a high-RAM runtime!')"
   ]
  },
  {
   "cell_type": "code",
   "execution_count": 3,
   "metadata": {
    "colab": {},
    "colab_type": "code",
    "id": "EnaCdoydBuPT"
   },
   "outputs": [],
   "source": [
    "import os\n",
    "import pandas as pd\n",
    "import numpy as np\n",
    "import tarfile\n",
    "#!pip install opencv-contrib-python\n",
    "#import cv2\n",
    "from scipy import misc\n",
    "import imageio\n",
    "from PIL import Image\n",
    "from PIL import Image\n",
    "import matplotlib.pyplot as plt\n",
    "import matplotlib.ticker as ticker\n",
    "from matplotlib.font_manager import FontProperties\n",
    "from sklearn.model_selection import train_test_split\n",
    "import tensorflow as tf\n",
    "physical_devices = tf.config.list_physical_devices('GPU')\n",
    "#tf.config.experimental.set_memory_growth(physical_devices[0], enable=True)\n",
    "import keras \n",
    "from keras.layers import *\n",
    "from keras.models import *\n",
    "from keras import backend as K\n",
    "from keras.utils.np_utils import to_categorical\n",
    "import re\n",
    "import string\n",
    "from string import digits\n",
    "import time"
   ]
  },
  {
   "cell_type": "code",
   "execution_count": 4,
   "metadata": {
    "colab": {
     "base_uri": "https://localhost:8080/",
     "height": 34
    },
    "colab_type": "code",
    "id": "jf1xlyiUBuPZ",
    "outputId": "bae668b6-3091-4410-9525-2cb0a2c348d0"
   },
   "outputs": [
    {
     "name": "stdout",
     "output_type": "stream",
     "text": [
      "Num GPUs Available:  1\n"
     ]
    }
   ],
   "source": [
    "print(\"Num GPUs Available: \", len(tf.config.experimental.list_physical_devices('GPU')))"
   ]
  },
  {
   "cell_type": "code",
   "execution_count": 5,
   "metadata": {
    "colab": {
     "base_uri": "https://localhost:8080/",
     "height": 34
    },
    "colab_type": "code",
    "id": "oRk4lpYfnZk7",
    "outputId": "ec3441de-8e87-4294-cd2b-16abec8164ff"
   },
   "outputs": [
    {
     "name": "stdout",
     "output_type": "stream",
     "text": [
      "drive  NMT_data.txt  pruned_train.en  pruned_train.hi\n"
     ]
    }
   ],
   "source": [
    "os.chdir(\"/content/drive/My Drive/project/NMTV2/prunedCorpus\")\n",
    "!ls"
   ]
  },
  {
   "cell_type": "code",
   "execution_count": 6,
   "metadata": {
    "colab": {},
    "colab_type": "code",
    "id": "D05lRKXbBuPp"
   },
   "outputs": [],
   "source": [
    "#SOURCE LANGUAGE-------------------------> ENGLISH\n",
    "#TARGET LANGUAGE-------------------------> HINDI"
   ]
  },
  {
   "cell_type": "markdown",
   "metadata": {
    "colab_type": "text",
    "id": "_t9rDWPFzy-N"
   },
   "source": [
    "This is a subsample of IIT-B English - Hindi parallel corpus. I will be using this for pruned dataset for this NMT project because of computational constraints. Can increase the the size for better accuracy."
   ]
  },
  {
   "cell_type": "code",
   "execution_count": 7,
   "metadata": {
    "colab": {
     "base_uri": "https://localhost:8080/",
     "height": 34
    },
    "colab_type": "code",
    "id": "iBrwvSwboi22",
    "outputId": "8115f218-d800-4af5-e8a4-3d7eba5d2f8b"
   },
   "outputs": [
    {
     "data": {
      "text/plain": [
       "(315239, 2)"
      ]
     },
     "execution_count": 7,
     "metadata": {
      "tags": []
     },
     "output_type": "execute_result"
    }
   ],
   "source": [
    "data = pd.read_csv(\"NMT_data.txt\")\n",
    "data.drop(\"Unnamed: 0\",axis=1,inplace = True)\n",
    "data.shape"
   ]
  },
  {
   "cell_type": "markdown",
   "metadata": {
    "colab_type": "text",
    "id": "YtyfqA4m0Evd"
   },
   "source": [
    "There are some sentences in English with some Hindi words. So this function will remove all those lines."
   ]
  },
  {
   "cell_type": "code",
   "execution_count": 8,
   "metadata": {
    "colab": {
     "base_uri": "https://localhost:8080/",
     "height": 419
    },
    "colab_type": "code",
    "id": "VR0B8Gu-BuP1",
    "outputId": "64ade955-edf5-4d8e-fcd7-7371946df970"
   },
   "outputs": [
    {
     "data": {
      "text/html": [
       "<div>\n",
       "<style scoped>\n",
       "    .dataframe tbody tr th:only-of-type {\n",
       "        vertical-align: middle;\n",
       "    }\n",
       "\n",
       "    .dataframe tbody tr th {\n",
       "        vertical-align: top;\n",
       "    }\n",
       "\n",
       "    .dataframe thead th {\n",
       "        text-align: right;\n",
       "    }\n",
       "</style>\n",
       "<table border=\"1\" class=\"dataframe\">\n",
       "  <thead>\n",
       "    <tr style=\"text-align: right;\">\n",
       "      <th></th>\n",
       "      <th>English</th>\n",
       "      <th>Hindi</th>\n",
       "    </tr>\n",
       "  </thead>\n",
       "  <tbody>\n",
       "    <tr>\n",
       "      <th>0</th>\n",
       "      <td>We believe that it is the incredible right of ...</td>\n",
       "      <td>हमारी यह भी मान्यकता है कि यदि सरकार किसी व्ये...</td>\n",
       "    </tr>\n",
       "    <tr>\n",
       "      <th>1</th>\n",
       "      <td>Error : Failed to execute xmllint . Please mak...</td>\n",
       "      <td>त्रुटिः xmllint चलाने में असफल . कृपया सुनिश्च...</td>\n",
       "    </tr>\n",
       "    <tr>\n",
       "      <th>2</th>\n",
       "      <td>And when We appointed with Moses forty nights ...</td>\n",
       "      <td>और याद करो जब हमने मूसा से चालीस रातों का वादा...</td>\n",
       "    </tr>\n",
       "    <tr>\n",
       "      <th>3</th>\n",
       "      <td>So I went back there</td>\n",
       "      <td>तो मैं वापस वहाँ गया</td>\n",
       "    </tr>\n",
       "    <tr>\n",
       "      <th>4</th>\n",
       "      <td>So 10 feet per second times time .</td>\n",
       "      <td>तो 10 फीट प्रति सेकंड गुणा समय ।</td>\n",
       "    </tr>\n",
       "    <tr>\n",
       "      <th>...</th>\n",
       "      <td>...</td>\n",
       "      <td>...</td>\n",
       "    </tr>\n",
       "    <tr>\n",
       "      <th>315234</th>\n",
       "      <td>Cannot create CMS Signer information</td>\n",
       "      <td>CMS हस्ताक्षरकर्ता सूचना नहीं निर्मित कर सकता है</td>\n",
       "    </tr>\n",
       "    <tr>\n",
       "      <th>315235</th>\n",
       "      <td>It is axiomatic that the masses can only grow ...</td>\n",
       "      <td>इसलिए यह लाजिमी है कि हम सूबों की भाषाओं पर जो...</td>\n",
       "    </tr>\n",
       "    <tr>\n",
       "      <th>315236</th>\n",
       "      <td>Basava was . a young boy of sixteen then and t...</td>\n",
       "      <td>बसव तब षोडशवर्षीय किशोर था और उसके बांधवों में...</td>\n",
       "    </tr>\n",
       "    <tr>\n",
       "      <th>315237</th>\n",
       "      <td>He concluded his thesis with the following wor...</td>\n",
       "      <td>अपना प्रबन्ध उनहोंने निम्नांकित शब्दों में समा...</td>\n",
       "    </tr>\n",
       "    <tr>\n",
       "      <th>315238</th>\n",
       "      <td>Do they know the rules and laws that govern jo...</td>\n",
       "      <td>क्या वे पत्रकारिता पर लागू नियमों और कानूनों स...</td>\n",
       "    </tr>\n",
       "  </tbody>\n",
       "</table>\n",
       "<p>302119 rows × 2 columns</p>\n",
       "</div>"
      ],
      "text/plain": [
       "                                                  English                                              Hindi\n",
       "0       We believe that it is the incredible right of ...  हमारी यह भी मान्यकता है कि यदि सरकार किसी व्ये...\n",
       "1       Error : Failed to execute xmllint . Please mak...  त्रुटिः xmllint चलाने में असफल . कृपया सुनिश्च...\n",
       "2       And when We appointed with Moses forty nights ...  और याद करो जब हमने मूसा से चालीस रातों का वादा...\n",
       "3                                    So I went back there                               तो मैं वापस वहाँ गया\n",
       "4                     So 10 feet per second times time .                   तो 10 फीट प्रति सेकंड गुणा समय । \n",
       "...                                                   ...                                                ...\n",
       "315234               Cannot create CMS Signer information   CMS हस्ताक्षरकर्ता सूचना नहीं निर्मित कर सकता है\n",
       "315235  It is axiomatic that the masses can only grow ...  इसलिए यह लाजिमी है कि हम सूबों की भाषाओं पर जो...\n",
       "315236  Basava was . a young boy of sixteen then and t...  बसव तब षोडशवर्षीय किशोर था और उसके बांधवों में...\n",
       "315237  He concluded his thesis with the following wor...  अपना प्रबन्ध उनहोंने निम्नांकित शब्दों में समा...\n",
       "315238  Do they know the rules and laws that govern jo...  क्या वे पत्रकारिता पर लागू नियमों और कानूनों स...\n",
       "\n",
       "[302119 rows x 2 columns]"
      ]
     },
     "execution_count": 8,
     "metadata": {
      "tags": []
     },
     "output_type": "execute_result"
    }
   ],
   "source": [
    "def clean_string(eng_string):\n",
    "   try:\n",
    "    eng_string.encode(encoding = \"utf-8\").decode(\"ascii\")\n",
    "   except UnicodeDecodeError:\n",
    "    return None\n",
    "   else:\n",
    "        return eng_string\n",
    "    \n",
    "    \n",
    "data[\"English\"] = data[\"English\"].apply(clean_string) \n",
    "data.dropna(inplace = True)\n",
    "data"
   ]
  },
  {
   "cell_type": "markdown",
   "metadata": {
    "colab_type": "text",
    "id": "VoxqBLac0UJU"
   },
   "source": [
    "Setting maximum sentence line as 25"
   ]
  },
  {
   "cell_type": "code",
   "execution_count": 9,
   "metadata": {
    "colab": {},
    "colab_type": "code",
    "id": "ArKajvqHBuP4"
   },
   "outputs": [],
   "source": [
    "def string_len(s):\n",
    "    count = len(s.split())\n",
    "    if count > 25:\n",
    "        return None\n",
    "    else:\n",
    "        return s"
   ]
  },
  {
   "cell_type": "markdown",
   "metadata": {
    "colab_type": "text",
    "id": "ejw6Uq4Q0YFw"
   },
   "source": [
    "All preprocessing steps will be done here. \n",
    "\n",
    "*   Convert to lower case\n",
    "\n",
    "*   Convert special characters\n",
    "*   Remove Digits\n",
    "\n",
    "\n",
    "*  Remove spaces\n",
    "\n",
    "*  Add start and end tags to each sentence\n",
    "\n",
    "\n",
    "\n",
    "\n"
   ]
  },
  {
   "cell_type": "code",
   "execution_count": 10,
   "metadata": {
    "colab": {},
    "colab_type": "code",
    "id": "MC3VzWRZBuP7"
   },
   "outputs": [],
   "source": [
    "#PRE PROCESSING-------->Remove all punctuations, convert to lowersletters, remove numbers\n",
    "\n",
    "def preprocess_sentence(sentence):\n",
    "    \n",
    "    if string_len(sentence) == None:\n",
    "        return None\n",
    "    num_digits= str.maketrans('','', digits)\n",
    "    \n",
    "    sentence= sentence.lower()\n",
    "    sentence= re.sub(\" +\", \" \", sentence)\n",
    "    sentence = re.sub(\"[#$%&\\()*+-/:;<=>@[\\\\]^_{}~]\",\"\",sentence)\n",
    "    sentence= re.sub(\"'\", '', sentence)\n",
    "    sentence= sentence.translate(num_digits)\n",
    "    sentence = re.sub(\"[२३०८१५७९४६]\", \"\", sentence)\n",
    "    sentence= re.sub(r\"([?.!,¿|])\", r\" \\1 \", sentence)\n",
    "    sentence = sentence.rstrip().strip()\n",
    "    sentence=  'start_ ' + sentence + ' _end'\n",
    "    \n",
    "    return sentence"
   ]
  },
  {
   "cell_type": "code",
   "execution_count": 11,
   "metadata": {
    "colab": {
     "base_uri": "https://localhost:8080/",
     "height": 419
    },
    "colab_type": "code",
    "id": "lf1HehW0BuP9",
    "outputId": "43757d9d-19e8-4754-88ce-5612fa3c93a1"
   },
   "outputs": [
    {
     "data": {
      "text/html": [
       "<div>\n",
       "<style scoped>\n",
       "    .dataframe tbody tr th:only-of-type {\n",
       "        vertical-align: middle;\n",
       "    }\n",
       "\n",
       "    .dataframe tbody tr th {\n",
       "        vertical-align: top;\n",
       "    }\n",
       "\n",
       "    .dataframe thead th {\n",
       "        text-align: right;\n",
       "    }\n",
       "</style>\n",
       "<table border=\"1\" class=\"dataframe\">\n",
       "  <thead>\n",
       "    <tr style=\"text-align: right;\">\n",
       "      <th></th>\n",
       "      <th>English</th>\n",
       "      <th>Hindi</th>\n",
       "    </tr>\n",
       "  </thead>\n",
       "  <tbody>\n",
       "    <tr>\n",
       "      <th>1</th>\n",
       "      <td>start_ error  failed to execute xmllint  pleas...</td>\n",
       "      <td>start_ त्रुटिः xmllint चलाने में असफल  कृपया स...</td>\n",
       "    </tr>\n",
       "    <tr>\n",
       "      <th>3</th>\n",
       "      <td>start_ so i went back there _end</td>\n",
       "      <td>start_ तो मैं वापस वहाँ गया _end</td>\n",
       "    </tr>\n",
       "    <tr>\n",
       "      <th>4</th>\n",
       "      <td>start_ so  feet per second times time _end</td>\n",
       "      <td>start_ तो  फीट प्रति सेकंड गुणा समय । _end</td>\n",
       "    </tr>\n",
       "    <tr>\n",
       "      <th>5</th>\n",
       "      <td>start_ delete failed with http status  d http ...</td>\n",
       "      <td>start_ स्थिति के साथ मिटाना विफल _end</td>\n",
       "    </tr>\n",
       "    <tr>\n",
       "      <th>6</th>\n",
       "      <td>start_ pandit had a great ambition to see bal ...</td>\n",
       "      <td>start_ पंडित की उच्चाकांक्षा बाल गंधर्व को रंग...</td>\n",
       "    </tr>\n",
       "    <tr>\n",
       "      <th>...</th>\n",
       "      <td>...</td>\n",
       "      <td>...</td>\n",
       "    </tr>\n",
       "    <tr>\n",
       "      <th>315232</th>\n",
       "      <td>start_ pulseaudio sound server _end</td>\n",
       "      <td>start_ पल्सऑडियो ध्वनि सर्वर _end</td>\n",
       "    </tr>\n",
       "    <tr>\n",
       "      <th>315233</th>\n",
       "      <td>start_ to these are added the problems created...</td>\n",
       "      <td>start_ इनमे वे समस्याएं भी जुड गई है जो बहारी ...</td>\n",
       "    </tr>\n",
       "    <tr>\n",
       "      <th>315234</th>\n",
       "      <td>start_ cannot create cms signer information _end</td>\n",
       "      <td>start_ cms हस्ताक्षरकर्ता सूचना नहीं निर्मित क...</td>\n",
       "    </tr>\n",
       "    <tr>\n",
       "      <th>315237</th>\n",
       "      <td>start_ he concluded his thesis with the follow...</td>\n",
       "      <td>start_ अपना प्रबन्ध उनहोंने निम्नांकित शब्दों ...</td>\n",
       "    </tr>\n",
       "    <tr>\n",
       "      <th>315238</th>\n",
       "      <td>start_ do they know the rules and laws that go...</td>\n",
       "      <td>start_ क्या वे पत्रकारिता पर लागू नियमों और का...</td>\n",
       "    </tr>\n",
       "  </tbody>\n",
       "</table>\n",
       "<p>209504 rows × 2 columns</p>\n",
       "</div>"
      ],
      "text/plain": [
       "                                                  English                                              Hindi\n",
       "1       start_ error  failed to execute xmllint  pleas...  start_ त्रुटिः xmllint चलाने में असफल  कृपया स...\n",
       "3                        start_ so i went back there _end                   start_ तो मैं वापस वहाँ गया _end\n",
       "4              start_ so  feet per second times time _end         start_ तो  फीट प्रति सेकंड गुणा समय । _end\n",
       "5       start_ delete failed with http status  d http ...              start_ स्थिति के साथ मिटाना विफल _end\n",
       "6       start_ pandit had a great ambition to see bal ...  start_ पंडित की उच्चाकांक्षा बाल गंधर्व को रंग...\n",
       "...                                                   ...                                                ...\n",
       "315232                start_ pulseaudio sound server _end                  start_ पल्सऑडियो ध्वनि सर्वर _end\n",
       "315233  start_ to these are added the problems created...  start_ इनमे वे समस्याएं भी जुड गई है जो बहारी ...\n",
       "315234   start_ cannot create cms signer information _end  start_ cms हस्ताक्षरकर्ता सूचना नहीं निर्मित क...\n",
       "315237  start_ he concluded his thesis with the follow...  start_ अपना प्रबन्ध उनहोंने निम्नांकित शब्दों ...\n",
       "315238  start_ do they know the rules and laws that go...  start_ क्या वे पत्रकारिता पर लागू नियमों और का...\n",
       "\n",
       "[209504 rows x 2 columns]"
      ]
     },
     "execution_count": 11,
     "metadata": {
      "tags": []
     },
     "output_type": "execute_result"
    }
   ],
   "source": [
    "data[\"English\"] = data[\"English\"].apply(preprocess_sentence)\n",
    "data[\"Hindi\"] = data[\"Hindi\"].apply(preprocess_sentence)\n",
    "data.dropna(inplace = True)\n",
    "data"
   ]
  },
  {
   "cell_type": "markdown",
   "metadata": {
    "colab_type": "text",
    "id": "g6m0UaZI0nO2"
   },
   "source": [
    "Creating English and Hindi Vocabulary "
   ]
  },
  {
   "cell_type": "code",
   "execution_count": 12,
   "metadata": {
    "colab": {
     "base_uri": "https://localhost:8080/",
     "height": 34
    },
    "colab_type": "code",
    "id": "Nsp67R3vBuP_",
    "outputId": "3ad55319-a513-4b32-f1bf-d305f07466a4"
   },
   "outputs": [
    {
     "data": {
      "text/plain": [
       "(61823, 90604)"
      ]
     },
     "execution_count": 12,
     "metadata": {
      "tags": []
     },
     "output_type": "execute_result"
    }
   ],
   "source": [
    "### Get English and Hindi Vocabulary\n",
    "all_eng_words=set()\n",
    "for eng in data['English']:\n",
    "    for word in eng.split():\n",
    "        if word not in all_eng_words:\n",
    "            all_eng_words.add(word)\n",
    "\n",
    "all_hindi_words=set()\n",
    "for hin in data['Hindi']:\n",
    "    for word in hin.split():\n",
    "        if word not in all_hindi_words:\n",
    "            all_hindi_words.add(word)\n",
    "\n",
    "            \n",
    "len(all_eng_words),len(all_hindi_words)            "
   ]
  },
  {
   "cell_type": "code",
   "execution_count": 13,
   "metadata": {
    "colab": {},
    "colab_type": "code",
    "id": "jxz4aJEyBuQB"
   },
   "outputs": [],
   "source": [
    "#For Displaying Results\n",
    "eng_lang = data[\"English\"]\n",
    "hin_lang = data[\"Hindi\"]"
   ]
  },
  {
   "cell_type": "markdown",
   "metadata": {
    "colab_type": "text",
    "id": "Xo21taOY0vQf"
   },
   "source": [
    "Using tf.keras.preprocessing for tokenizing words in sentences, getting word index and padding sentences"
   ]
  },
  {
   "cell_type": "code",
   "execution_count": 14,
   "metadata": {
    "colab": {},
    "colab_type": "code",
    "id": "TeHj2jsuBuQD"
   },
   "outputs": [],
   "source": [
    "################################# TOKENIZATION #####################################################\n",
    "\n",
    "def tokenize(lang):\n",
    "  # create a tokenizer for source sentence  \n",
    "  lang_tokenizer = tf.keras.preprocessing.text.Tokenizer(filters='')\n",
    "  \n",
    "\n",
    "  # Fit the source sentences to the source tokenizer\n",
    "  lang_tokenizer.fit_on_texts(lang)\n",
    "\n",
    "\n",
    "  # Get our training data word index\n",
    "  #Giving integer values to all words\n",
    "  word_index = lang_tokenizer.word_index\n",
    "  #len(word_index)\n",
    "\n",
    "\n",
    "  #Transforms each text in texts to a sequence of integers.\n",
    "  tensor = lang_tokenizer.texts_to_sequences(lang)\n",
    "\n",
    "\n",
    "\n",
    "  #Sequences that are shorter than num_timesteps, padded with 0 at the end.\n",
    "  # This function transforms a list of `num_samples` sequences (lists of integers) into a 2D Numpy array of shape `(num_samples, num_timesteps)`.\n",
    "  # `num_timesteps` is either the `maxlen` argument if provided, or the length of the longest sequence otherwise.\n",
    "  tensor = tf.keras.preprocessing.sequence.pad_sequences(tensor,padding='post')\n",
    "\n",
    "  return tensor, lang_tokenizer\n",
    "\n",
    "#lang_tokenizer is required to create a object of tf.tokenizer to be used to get word_index\n",
    "input_tensor,inp_lang = tokenize(data[\"English\"])\n",
    "target_tensor, targ_lang= tokenize(data[\"Hindi\"])\n"
   ]
  },
  {
   "cell_type": "code",
   "execution_count": 15,
   "metadata": {
    "colab": {},
    "colab_type": "code",
    "id": "n7eQG6MIBuQF"
   },
   "outputs": [],
   "source": [
    "max_length_targ, max_length_inp = target_tensor.shape[1], input_tensor.shape[1]"
   ]
  },
  {
   "cell_type": "markdown",
   "metadata": {
    "colab_type": "text",
    "id": "udEbIy9R1E3G"
   },
   "source": [
    "Train Test Split"
   ]
  },
  {
   "cell_type": "code",
   "execution_count": 16,
   "metadata": {
    "colab": {
     "base_uri": "https://localhost:8080/",
     "height": 34
    },
    "colab_type": "code",
    "id": "BWPygzLWBuQH",
    "outputId": "03e6ac69-c43f-4856-f4ff-248872bae85d"
   },
   "outputs": [
    {
     "name": "stdout",
     "output_type": "stream",
     "text": [
      "167603 167603 41901 41901\n"
     ]
    }
   ],
   "source": [
    "input_tensor_train, input_tensor_val, target_tensor_train, target_tensor_val = train_test_split(input_tensor, target_tensor, test_size=0.2)\n",
    "\n",
    "    \n",
    "print(len(input_tensor_train), len(target_tensor_train), len(input_tensor_val), len(target_tensor_val))"
   ]
  },
  {
   "cell_type": "code",
   "execution_count": 17,
   "metadata": {
    "colab": {},
    "colab_type": "code",
    "id": "qqvRuBCZBuQJ"
   },
   "outputs": [],
   "source": [
    "def convert(lang, tensor):\n",
    "  for t in tensor:\n",
    "    if t!=0:\n",
    "      print (\"%d ----> %s\" % (t, lang.index_word[t]))"
   ]
  },
  {
   "cell_type": "markdown",
   "metadata": {
    "colab_type": "text",
    "id": "e2M3LQPq1Hww"
   },
   "source": [
    "Sample Sentence"
   ]
  },
  {
   "cell_type": "code",
   "execution_count": 18,
   "metadata": {
    "colab": {
     "base_uri": "https://localhost:8080/",
     "height": 765
    },
    "colab_type": "code",
    "id": "eil-ZdISBuQO",
    "outputId": "1f02639d-1c4d-431a-b3d4-22ef5cc86eda"
   },
   "outputs": [
    {
     "name": "stdout",
     "output_type": "stream",
     "text": [
      "Input Language; index to word mapping\n",
      "1 ----> start_\n",
      "57 ----> if\n",
      "17 ----> you\n",
      "105 ----> work\n",
      "10 ----> for\n",
      "33 ----> an\n",
      "4259 ----> employer\n",
      "17 ----> you\n",
      "27 ----> have\n",
      "383 ----> special\n",
      "779 ----> rights\n",
      "94 ----> such\n",
      "22 ----> as\n",
      "1504 ----> weeks\n",
      "6813 ----> maternity\n",
      "472 ----> leave\n",
      "2 ----> _end\n",
      "\n",
      "Target Language; index to word mapping\n",
      "1 ----> start_\n",
      "167 ----> अगर\n",
      "54 ----> आप\n",
      "9135 ----> कोऋ\n",
      "22443 ----> एम्प्लोयेर्\n",
      "4 ----> के\n",
      "13 ----> लिए\n",
      "37248 ----> नऋकरी\n",
      "27 ----> कर\n",
      "67 ----> रहे\n",
      "5 ----> है\n",
      "23 ----> तो\n",
      "54 ----> आप\n",
      "11 ----> को\n",
      "893 ----> सप्ताह\n",
      "65 ----> तक\n",
      "3370 ----> गर्भावस्था\n",
      "7 ----> की\n",
      "2184 ----> छुट्टी\n",
      "411 ----> लेने\n",
      "10 ----> का\n",
      "345 ----> अधिकार\n",
      "5 ----> है\n",
      "2 ----> _end\n"
     ]
    }
   ],
   "source": [
    "print (\"Input Language; index to word mapping\")\n",
    "convert(inp_lang, input_tensor_train[1])\n",
    "print ()\n",
    "print (\"Target Language; index to word mapping\")\n",
    "convert(targ_lang, target_tensor_train[1])"
   ]
  },
  {
   "cell_type": "markdown",
   "metadata": {
    "colab_type": "text",
    "id": "k7kceZ691MSg"
   },
   "source": [
    "Creating a batch of 64 with embeding size as 256 and encoder/decoder units as 1024. Can play around with these to improve the model"
   ]
  },
  {
   "cell_type": "code",
   "execution_count": 19,
   "metadata": {
    "colab": {
     "base_uri": "https://localhost:8080/",
     "height": 51
    },
    "colab_type": "code",
    "id": "ClsUjC-YBuQR",
    "outputId": "67dedafb-7748-4d9a-f60f-8eb89655f804"
   },
   "outputs": [
    {
     "name": "stdout",
     "output_type": "stream",
     "text": [
      "(64, 27)\n",
      "(64, 33)\n"
     ]
    }
   ],
   "source": [
    "############################# CREATING BATCH USING DATASET OBJECT OF TF #######################################\n",
    "\n",
    "BUFFER_SIZE = len(input_tensor_train)\n",
    "BATCH_SIZE = 64\n",
    "steps_per_epoch = len(input_tensor_train)//BATCH_SIZE\n",
    "embedding_dim = 256\n",
    "units = 1024\n",
    "vocab_inp_size = len(inp_lang.word_index)+1\n",
    "vocab_tar_size = len(targ_lang.word_index)+1\n",
    "\n",
    "\n",
    "\n",
    "\n",
    "dataset = tf.data.Dataset.from_tensor_slices((input_tensor_train, target_tensor_train))\n",
    "dataset = dataset.batch(64)\n",
    "\n",
    "val_dataset = tf.data.Dataset.from_tensor_slices((input_tensor_val, target_tensor_val))\n",
    "val_dataset = val_dataset.batch(64)\n",
    "\n",
    "\n",
    "source_batch, target_batch = next(iter(dataset))\n",
    "print(source_batch.shape)\n",
    "print(target_batch.shape)\n",
    "#dimensions-------> batchsize, max lenght of a sting in source and target "
   ]
  },
  {
   "cell_type": "code",
   "execution_count": 20,
   "metadata": {
    "colab": {
     "base_uri": "https://localhost:8080/",
     "height": 34
    },
    "colab_type": "code",
    "id": "QziW7-naBuQT",
    "outputId": "77821e32-c434-434e-c9aa-83d196389a1b"
   },
   "outputs": [
    {
     "data": {
      "text/plain": [
       "(61824, 90605)"
      ]
     },
     "execution_count": 20,
     "metadata": {
      "tags": []
     },
     "output_type": "execute_result"
    }
   ],
   "source": [
    "vocab_inp_size,vocab_tar_size"
   ]
  },
  {
   "cell_type": "code",
   "execution_count": 21,
   "metadata": {
    "colab": {},
    "colab_type": "code",
    "id": "49nk17B2BuQU"
   },
   "outputs": [],
   "source": [
    "####################### ENCODER ######################################################\n",
    "\n",
    "class Encoder(tf.keras.Model):\n",
    "    \n",
    "    def __init__(self, vocab_size, embedding_dim, enc_units, batch_size):\n",
    "        super(Encoder, self).__init__()\n",
    "        self.batch_size = batch_size\n",
    "        self.enc_units = enc_units\n",
    "        self.embedding = tf.keras.layers.Embedding(vocab_size, embedding_dim)#input--->vocab_size;output--->embedding_dim\n",
    "        self.gru = tf.keras.layers.GRU(self.enc_units,\n",
    "                                        return_sequences = True,#to return the the full sequence----->hidden state\n",
    "                                        return_state = True,\n",
    "                                        recurrent_initializer=\"glorot_uniform\")#Xavier uniform initializer.Draws samples from a uniform distribution\n",
    "        \n",
    "    #call is forward pass. for gru its parameters are inputs which is x and initial_state which is hidden. dim of x is batch,timesteps,feature\n",
    "    def call(self, x, hidden):\n",
    "        x = self.embedding(x)\n",
    "        output,state = self.gru(x, initial_state = hidden)\n",
    "        return output, state\n",
    "    \n",
    "    def initialize_hidden_state(self):\n",
    "        return tf.zeros((self.batch_size,self.enc_units))\n"
   ]
  },
  {
   "cell_type": "code",
   "execution_count": 22,
   "metadata": {
    "colab": {},
    "colab_type": "code",
    "id": "fEt4npaTBuQW"
   },
   "outputs": [],
   "source": [
    "encoder = Encoder(vocab_inp_size, embedding_dim, units, BATCH_SIZE)"
   ]
  },
  {
   "cell_type": "markdown",
   "metadata": {
    "colab_type": "text",
    "id": "_oZRM1RK1hyA"
   },
   "source": [
    "Attention class"
   ]
  },
  {
   "cell_type": "code",
   "execution_count": 23,
   "metadata": {
    "colab": {},
    "colab_type": "code",
    "id": "OeXkP19jBuQY"
   },
   "outputs": [],
   "source": [
    "####################### ATTENTION #####################################\n",
    "\n",
    "class Attention(tf.keras.layers.Layer):\n",
    "  def __init__(self, units):\n",
    "    super(Attention, self).__init__()\n",
    "    self.W1 = tf.keras.layers.Dense(units)\n",
    "    self.W2 = tf.keras.layers.Dense(units)\n",
    "    self.V = tf.keras.layers.Dense(1)\n",
    "    \n",
    "  def call(self, query, values):\n",
    "    # query hidden state shape == (batch_size, hidden size)\n",
    "    # query_with_time_axis shape == (batch_size, 1, hidden size)-------------> sta\n",
    "    # values shape == (batch_size, max_len, hidden size)-------------->hj\n",
    "    # we are doing this to broadcast addition along the time axis to calculate the score\n",
    "    query_with_time_axis = tf.expand_dims(query, 1)\n",
    "\n",
    "    # score shape == (batch_size, max_length, 1)\n",
    "    # we get 1 at the last axis because we are applying score to self.V\n",
    "    # the shape of the tensor before applying self.V is (batch_size, max_length, units)\n",
    "    #this is ejt:how imp is the jth input word at tth timestep\n",
    "    score = self.V(tf.nn.tanh(self.W1(query_with_time_axis) + self.W2(values)))\n",
    "\n",
    "    # attention_weights shape == (batch_size, max_length, 1)\n",
    "    attention_weights = tf.nn.softmax(score, axis=1)\n",
    "\n",
    "    # context_vector shape after sum == (batch_size, hidden_size)\n",
    "    context_vector = attention_weights * values\n",
    "    context_vector = tf.reduce_sum(context_vector, axis=1)\n",
    "\n",
    "    return context_vector, attention_weights  "
   ]
  },
  {
   "cell_type": "code",
   "execution_count": 24,
   "metadata": {
    "colab": {},
    "colab_type": "code",
    "id": "lfybqXLXBuQZ"
   },
   "outputs": [],
   "source": [
    "attention_layer = Attention(10)"
   ]
  },
  {
   "cell_type": "code",
   "execution_count": 25,
   "metadata": {
    "colab": {},
    "colab_type": "code",
    "id": "a-9iSlkHBuQb"
   },
   "outputs": [],
   "source": [
    "################### DECODER ####################################\n",
    "\n",
    "class Decoder(tf.keras.Model):\n",
    "    def __init__(self, vocab_size, embedding_dim, decoder_units, batch_size):\n",
    "        super (Decoder,self).__init__()\n",
    "        self.batch_size= batch_size\n",
    "        self.decoder_units = decoder_units\n",
    "        self.embedding = tf.keras.layers.Embedding(vocab_size, embedding_dim)\n",
    "        self.gru= tf.keras.layers.GRU(decoder_units, \n",
    "                                      return_sequences= True,\n",
    "                                      return_state=True,\n",
    "                                      recurrent_initializer='glorot_uniform')\n",
    "        # Fully connected layer\n",
    "        self.fc= tf.keras.layers.Dense(vocab_size)\n",
    "        \n",
    "        # attention\n",
    "        self.attention = Attention(self.decoder_units)\n",
    "        \n",
    "    \n",
    "    def call(self, x, hidden, enc_output):\n",
    "        \n",
    "        # enc_output shape == (batch_size, max_length, hidden_size)\n",
    "        context_vector, attention_weights = self.attention(hidden, enc_output)\n",
    "\n",
    "        # x shape after passing through embedding == (batch_size, 1, embedding_dim)\n",
    "        x = self.embedding(x)\n",
    "\n",
    "        # x shape after concatenation == (batch_size, 1, embedding_dim + hidden_size)\n",
    "        x = tf.concat([tf.expand_dims(context_vector, 1), x], axis=-1)\n",
    "\n",
    "        # passing the concatenated vector to the GRU\n",
    "        output, state = self.gru(x)\n",
    "\n",
    "        # output shape == (batch_size * 1, hidden_size)\n",
    "        output = tf.reshape(output, (-1, output.shape[2]))\n",
    "\n",
    "        # output shape == (batch_size, vocab)\n",
    "        x = self.fc(output)\n",
    "\n",
    "        return x, state, attention_weights "
   ]
  },
  {
   "cell_type": "code",
   "execution_count": 26,
   "metadata": {
    "colab": {},
    "colab_type": "code",
    "id": "yh7KlVnLBuQc"
   },
   "outputs": [],
   "source": [
    "decoder = Decoder(vocab_tar_size, embedding_dim, units, BATCH_SIZE)"
   ]
  },
  {
   "cell_type": "code",
   "execution_count": 27,
   "metadata": {
    "colab": {},
    "colab_type": "code",
    "id": "8kNC4LSPBuQe"
   },
   "outputs": [],
   "source": [
    "######################## OPTIMIZER ############################################\n",
    "\n",
    "optimizer = tf.keras.optimizers.Adam()\n",
    "loss_object = tf.keras.losses.SparseCategoricalCrossentropy(from_logits=True, reduction='none')\n",
    "\n",
    "def loss_function(real, pred):\n",
    "  mask = tf.math.logical_not(tf.math.equal(real, 0))\n",
    "  loss_ = loss_object(real, pred)\n",
    "  mask = tf.cast(mask, dtype=loss_.dtype)\n",
    "  loss_ *= mask\n",
    "\n",
    "  return tf.reduce_mean(loss_)  "
   ]
  },
  {
   "cell_type": "markdown",
   "metadata": {
    "colab_type": "text",
    "id": "aBoUjxpB1qN0"
   },
   "source": [
    "Creating Checkpoint Directory"
   ]
  },
  {
   "cell_type": "code",
   "execution_count": 28,
   "metadata": {
    "colab": {},
    "colab_type": "code",
    "id": "V096-BstBuQg"
   },
   "outputs": [],
   "source": [
    "checkpoint_dir = '/content/drive/My Drive/project/NMTV2/check_model'\n",
    "checkpoint_prefix = os.path.join(checkpoint_dir, \"ckpt\")\n",
    "checkpoint = tf.train.Checkpoint(optimizer=optimizer,\n",
    "                                 encoder=encoder,\n",
    "                                 decoder=decoder,\n",
    "                                layer = attention_layer)"
   ]
  },
  {
   "cell_type": "code",
   "execution_count": 29,
   "metadata": {
    "colab": {
     "base_uri": "https://localhost:8080/",
     "height": 34
    },
    "colab_type": "code",
    "id": "IRl7qXrGl19P",
    "outputId": "36722cb1-7e2e-45d2-e40a-3539b6f83395"
   },
   "outputs": [
    {
     "name": "stdout",
     "output_type": "stream",
     "text": [
      "checkpoint  ckpt-8.data-00000-of-00001\tckpt-8.index\n"
     ]
    }
   ],
   "source": [
    "!ls \"/content/drive/My Drive/project/NMTV2/check_model\""
   ]
  },
  {
   "cell_type": "code",
   "execution_count": 30,
   "metadata": {
    "colab": {},
    "colab_type": "code",
    "id": "dfeXUYu9BuQi"
   },
   "outputs": [],
   "source": [
    "################ TRAINING ##############################\n",
    "def train_step(inp, targ, enc_hidden):\n",
    "    loss = 0\n",
    "    with tf.GradientTape() as tape:\n",
    "        #create encoder\n",
    "        enc_output, enc_hidden = encoder(inp, enc_hidden)\n",
    "        dec_hidden = enc_hidden\n",
    "        \n",
    "        #first input to decode is start_\n",
    "        dec_input = tf.expand_dims([targ_lang.word_index['start_']] * BATCH_SIZE, 1)\n",
    "        \n",
    "        # Teacher forcing - feeding the target as the next input\n",
    "        for t in range(1, targ.shape[1]):\n",
    "          # passing enc_output to the decoder\n",
    "          predictions, dec_hidden, _ = decoder(dec_input, dec_hidden, enc_output)\n",
    "          \n",
    "          # calculate loss based on predictions  \n",
    "          loss += loss_function(targ[:, t], predictions)\n",
    "          \n",
    "          # using teacher forcing\n",
    "          dec_input = tf.expand_dims(targ[:, t], 1)\n",
    "    \n",
    "    batch_loss = (loss / int(targ.shape[1]))\n",
    "    variables = encoder.trainable_variables + decoder.trainable_variables\n",
    "    gradients = tape.gradient(loss, variables)\n",
    "    optimizer.apply_gradients(zip(gradients, variables))\n",
    "    return batch_loss"
   ]
  },
  {
   "cell_type": "markdown",
   "metadata": {
    "colab_type": "text",
    "id": "FnTjqx_j1zxr"
   },
   "source": [
    "To Restore from last Checkpoint"
   ]
  },
  {
   "cell_type": "code",
   "execution_count": 31,
   "metadata": {
    "colab": {
     "base_uri": "https://localhost:8080/",
     "height": 34
    },
    "colab_type": "code",
    "id": "gq8VHeHa1Aib",
    "outputId": "0c36e129-1166-4bba-d605-70c18161b388"
   },
   "outputs": [
    {
     "data": {
      "text/plain": [
       "<tensorflow.python.training.tracking.util.CheckpointLoadStatus at 0x7f86804dcf28>"
      ]
     },
     "execution_count": 31,
     "metadata": {
      "tags": []
     },
     "output_type": "execute_result"
    }
   ],
   "source": [
    "# restoring the latest checkpoint in checkpoint_dir\n",
    "checkpoint.restore(tf.train.latest_checkpoint(checkpoint_dir))"
   ]
  },
  {
   "cell_type": "code",
   "execution_count": null,
   "metadata": {
    "colab": {
     "base_uri": "https://localhost:8080/",
     "height": 1000
    },
    "colab_type": "code",
    "id": "xCOELnfCBuQk",
    "outputId": "00dd610a-0804-44f9-b4a5-01f1273a79c4"
   },
   "outputs": [
    {
     "name": "stdout",
     "output_type": "stream",
     "text": [
      "Epoch 1 Batch 0 Loss 0.6166244745254517\n",
      "Epoch 1 Loss 0.00023553264327347279\n",
      "Time taken for 1 epoch 33.75298237800598 sec\n",
      "\n",
      "Epoch 1 Batch 100 Loss 0.5831127166748047\n",
      "Epoch 1 Loss 0.026151787489652634\n",
      "Time taken for 1 epoch 151.88488864898682 sec\n",
      "\n",
      "Epoch 1 Batch 200 Loss 0.6885926127433777\n",
      "Epoch 1 Loss 0.05176496505737305\n",
      "Time taken for 1 epoch 269.3380010128021 sec\n",
      "\n",
      "Epoch 1 Batch 300 Loss 0.7564595937728882\n",
      "Epoch 1 Loss 0.0778631865978241\n",
      "Time taken for 1 epoch 387.36487555503845 sec\n",
      "\n",
      "Epoch 1 Batch 400 Loss 0.840550422668457\n",
      "Epoch 1 Loss 0.10383568704128265\n",
      "Time taken for 1 epoch 504.7723157405853 sec\n",
      "\n",
      "Epoch 1 Batch 500 Loss 0.715522050857544\n",
      "Epoch 1 Loss 0.13019482791423798\n",
      "Time taken for 1 epoch 622.25279545784 sec\n",
      "\n",
      "Epoch 1 Batch 600 Loss 0.46014752984046936\n",
      "Epoch 1 Loss 0.15649156272411346\n",
      "Time taken for 1 epoch 739.3491003513336 sec\n",
      "\n",
      "Epoch 1 Batch 700 Loss 0.8074981570243835\n",
      "Epoch 1 Loss 0.1832168996334076\n",
      "Time taken for 1 epoch 856.4551222324371 sec\n",
      "\n",
      "Epoch 1 Batch 800 Loss 0.6404682993888855\n",
      "Epoch 1 Loss 0.20965711772441864\n",
      "Time taken for 1 epoch 973.7649896144867 sec\n",
      "\n",
      "Epoch 1 Batch 900 Loss 0.6458693742752075\n",
      "Epoch 1 Loss 0.23694442212581635\n",
      "Time taken for 1 epoch 1091.0366525650024 sec\n",
      "\n",
      "Epoch 1 Batch 1000 Loss 0.7464433908462524\n",
      "Epoch 1 Loss 0.2641054093837738\n",
      "Time taken for 1 epoch 1207.8169322013855 sec\n",
      "\n",
      "Epoch 1 Batch 1100 Loss 0.573232114315033\n",
      "Epoch 1 Loss 0.2907901108264923\n",
      "Time taken for 1 epoch 1324.8741149902344 sec\n",
      "\n",
      "Epoch 1 Batch 1200 Loss 0.6991662979125977\n",
      "Epoch 1 Loss 0.31760483980178833\n",
      "Time taken for 1 epoch 1441.7017376422882 sec\n",
      "\n",
      "Epoch 1 Batch 1300 Loss 0.5174568891525269\n",
      "Epoch 1 Loss 0.34513726830482483\n",
      "Time taken for 1 epoch 1558.6169533729553 sec\n",
      "\n",
      "Epoch 1 Batch 1400 Loss 0.7698941826820374\n",
      "Epoch 1 Loss 0.3726007342338562\n",
      "Time taken for 1 epoch 1675.6946539878845 sec\n",
      "\n",
      "Epoch 1 Batch 1500 Loss 0.7572212219238281\n",
      "Epoch 1 Loss 0.39891529083251953\n",
      "Time taken for 1 epoch 1792.5199530124664 sec\n",
      "\n",
      "Epoch 1 Batch 1600 Loss 0.9398430585861206\n",
      "Epoch 1 Loss 0.42690324783325195\n",
      "Time taken for 1 epoch 1909.3498349189758 sec\n",
      "\n",
      "Epoch 1 Batch 1700 Loss 0.6099497079849243\n",
      "Epoch 1 Loss 0.45513686537742615\n",
      "Time taken for 1 epoch 2026.0932981967926 sec\n",
      "\n",
      "Epoch 1 Batch 1800 Loss 0.7107778787612915\n",
      "Epoch 1 Loss 0.4827791452407837\n",
      "Time taken for 1 epoch 2142.7510726451874 sec\n",
      "\n",
      "Epoch 1 Batch 1900 Loss 0.605812668800354\n",
      "Epoch 1 Loss 0.5102702975273132\n",
      "Time taken for 1 epoch 2259.7745640277863 sec\n",
      "\n",
      "Epoch 1 Batch 2000 Loss 0.9343329668045044\n",
      "Epoch 1 Loss 0.5377803444862366\n",
      "Time taken for 1 epoch 2376.461853504181 sec\n",
      "\n",
      "Epoch 1 Batch 2100 Loss 0.7203620672225952\n",
      "Epoch 1 Loss 0.565613329410553\n",
      "Time taken for 1 epoch 2493.1956877708435 sec\n",
      "\n",
      "Epoch 1 Batch 2200 Loss 0.6672292351722717\n",
      "Epoch 1 Loss 0.5939086079597473\n",
      "Time taken for 1 epoch 2610.1195583343506 sec\n",
      "\n",
      "Epoch 1 Batch 2300 Loss 0.7901110649108887\n",
      "Epoch 1 Loss 0.6224905848503113\n",
      "Time taken for 1 epoch 2726.915765285492 sec\n",
      "\n",
      "Epoch 1 Batch 2400 Loss 0.7906993627548218\n",
      "Epoch 1 Loss 0.6511054039001465\n",
      "Time taken for 1 epoch 2843.2837660312653 sec\n",
      "\n",
      "Epoch 1 Batch 2500 Loss 0.9225860238075256\n",
      "Epoch 1 Loss 0.6791945695877075\n",
      "Time taken for 1 epoch 2959.8958175182343 sec\n",
      "\n",
      "Epoch 1 Batch 2600 Loss 0.7199529409408569\n",
      "Epoch 1 Loss 0.7067922353744507\n",
      "Time taken for 1 epoch 3076.1337954998016 sec\n",
      "\n",
      "Epoch 2 Batch 0 Loss 0.4204043447971344\n",
      "Epoch 2 Loss 0.00016058226174209267\n",
      "Time taken for 1 epoch 1.1661665439605713 sec\n",
      "\n",
      "Epoch 2 Batch 100 Loss 0.4744647741317749\n",
      "Epoch 2 Loss 0.01933906227350235\n",
      "Time taken for 1 epoch 117.63783693313599 sec\n",
      "\n",
      "Epoch 2 Batch 200 Loss 0.5057662725448608\n",
      "Epoch 2 Loss 0.03775891289114952\n",
      "Time taken for 1 epoch 233.8646683692932 sec\n",
      "\n",
      "Epoch 2 Batch 300 Loss 0.5101339817047119\n",
      "Epoch 2 Loss 0.05629200488328934\n",
      "Time taken for 1 epoch 350.3086152076721 sec\n",
      "\n",
      "Epoch 2 Batch 400 Loss 0.5612986087799072\n",
      "Epoch 2 Loss 0.07452863454818726\n",
      "Time taken for 1 epoch 467.2376935482025 sec\n",
      "\n",
      "Epoch 2 Batch 500 Loss 0.45940732955932617\n",
      "Epoch 2 Loss 0.09298095107078552\n",
      "Time taken for 1 epoch 583.9454960823059 sec\n",
      "\n",
      "Epoch 2 Batch 600 Loss 0.3396267294883728\n",
      "Epoch 2 Loss 0.11117983609437943\n",
      "Time taken for 1 epoch 700.6187868118286 sec\n",
      "\n",
      "Epoch 2 Batch 700 Loss 0.5642203688621521\n",
      "Epoch 2 Loss 0.1295137107372284\n",
      "Time taken for 1 epoch 817.1584188938141 sec\n",
      "\n",
      "Epoch 2 Batch 800 Loss 0.41775286197662354\n",
      "Epoch 2 Loss 0.14763182401657104\n",
      "Time taken for 1 epoch 933.8447716236115 sec\n",
      "\n",
      "Epoch 2 Batch 900 Loss 0.44939035177230835\n",
      "Epoch 2 Loss 0.16638576984405518\n",
      "Time taken for 1 epoch 1050.6615929603577 sec\n",
      "\n",
      "Epoch 2 Batch 1000 Loss 0.5189778804779053\n",
      "Epoch 2 Loss 0.18514321744441986\n",
      "Time taken for 1 epoch 1167.10786819458 sec\n",
      "\n",
      "Epoch 2 Batch 1100 Loss 0.3790690004825592\n",
      "Epoch 2 Loss 0.203609898686409\n",
      "Time taken for 1 epoch 1283.0376551151276 sec\n",
      "\n",
      "Epoch 2 Batch 1200 Loss 0.5226069092750549\n",
      "Epoch 2 Loss 0.22220806777477264\n",
      "Time taken for 1 epoch 1399.5955131053925 sec\n",
      "\n",
      "Epoch 2 Batch 1300 Loss 0.3756389319896698\n",
      "Epoch 2 Loss 0.24125880002975464\n",
      "Time taken for 1 epoch 1516.0173654556274 sec\n",
      "\n",
      "Epoch 2 Batch 1400 Loss 0.5102860331535339\n",
      "Epoch 2 Loss 0.26009926199913025\n",
      "Time taken for 1 epoch 1632.652836561203 sec\n",
      "\n",
      "Epoch 2 Batch 1500 Loss 0.5376482009887695\n",
      "Epoch 2 Loss 0.27825337648391724\n",
      "Time taken for 1 epoch 1749.0821962356567 sec\n",
      "\n",
      "Epoch 2 Batch 1600 Loss 0.6102080345153809\n",
      "Epoch 2 Loss 0.2974705100059509\n",
      "Time taken for 1 epoch 1865.1841821670532 sec\n",
      "\n",
      "Epoch 2 Batch 1700 Loss 0.466208815574646\n",
      "Epoch 2 Loss 0.31727054715156555\n",
      "Time taken for 1 epoch 1981.9329884052277 sec\n",
      "\n",
      "Epoch 2 Batch 1800 Loss 0.5075003504753113\n",
      "Epoch 2 Loss 0.33669084310531616\n",
      "Time taken for 1 epoch 2098.4401981830597 sec\n",
      "\n",
      "Epoch 2 Batch 1900 Loss 0.40990114212036133\n",
      "Epoch 2 Loss 0.35569000244140625\n",
      "Time taken for 1 epoch 2214.759194135666 sec\n",
      "\n",
      "Epoch 2 Batch 2000 Loss 0.6197842955589294\n",
      "Epoch 2 Loss 0.3748520314693451\n",
      "Time taken for 1 epoch 2331.31006526947 sec\n",
      "\n",
      "Epoch 2 Batch 2100 Loss 0.5141183733940125\n",
      "Epoch 2 Loss 0.3943980038166046\n",
      "Time taken for 1 epoch 2447.2667145729065 sec\n",
      "\n",
      "Epoch 2 Batch 2200 Loss 0.4571284055709839\n",
      "Epoch 2 Loss 0.4141119718551636\n",
      "Time taken for 1 epoch 2563.8572959899902 sec\n",
      "\n",
      "Epoch 2 Batch 2300 Loss 0.5779551863670349\n",
      "Epoch 2 Loss 0.4342102110385895\n",
      "Time taken for 1 epoch 2680.2786662578583 sec\n",
      "\n",
      "Epoch 2 Batch 2400 Loss 0.5967391729354858\n",
      "Epoch 2 Loss 0.4542635381221771\n",
      "Time taken for 1 epoch 2796.9056730270386 sec\n",
      "\n",
      "Epoch 2 Batch 2500 Loss 0.6443799734115601\n",
      "Epoch 2 Loss 0.4739117920398712\n",
      "Time taken for 1 epoch 2913.4665389060974 sec\n",
      "\n",
      "Epoch 2 Batch 2600 Loss 0.516148030757904\n",
      "Epoch 2 Loss 0.49323591589927673\n",
      "Time taken for 1 epoch 3029.470369577408 sec\n",
      "\n",
      "Epoch 2 Loss 0.4965\n",
      "Time taken for 1 epoch 3057.0431780815125 sec\n",
      "\n",
      "Epoch 3 Batch 0 Loss 0.3219187259674072\n",
      "Epoch 3 Loss 0.00012296361092012376\n",
      "Time taken for 1 epoch 1.1906490325927734 sec\n",
      "\n",
      "Epoch 3 Batch 100 Loss 0.3545229136943817\n",
      "Epoch 3 Loss 0.015125858597457409\n",
      "Time taken for 1 epoch 119.49459457397461 sec\n",
      "\n",
      "Epoch 3 Batch 200 Loss 0.40020933747291565\n",
      "Epoch 3 Loss 0.029483946040272713\n",
      "Time taken for 1 epoch 236.28808450698853 sec\n",
      "\n",
      "Epoch 3 Batch 300 Loss 0.3806534707546234\n",
      "Epoch 3 Loss 0.04394305497407913\n",
      "Time taken for 1 epoch 353.0944170951843 sec\n",
      "\n",
      "Epoch 3 Batch 400 Loss 0.43548235297203064\n",
      "Epoch 3 Loss 0.058224868029356\n",
      "Time taken for 1 epoch 469.640807390213 sec\n",
      "\n",
      "Epoch 3 Batch 500 Loss 0.3605606257915497\n",
      "Epoch 3 Loss 0.07259862124919891\n",
      "Time taken for 1 epoch 586.4797451496124 sec\n",
      "\n",
      "Epoch 3 Batch 600 Loss 0.2658994495868683\n",
      "Epoch 3 Loss 0.08671023696660995\n",
      "Time taken for 1 epoch 703.1544716358185 sec\n",
      "\n",
      "Epoch 3 Batch 700 Loss 0.437922865152359\n",
      "Epoch 3 Loss 0.10082611441612244\n",
      "Time taken for 1 epoch 819.8461818695068 sec\n",
      "\n",
      "Epoch 3 Batch 800 Loss 0.3280828595161438\n",
      "Epoch 3 Loss 0.1148504838347435\n",
      "Time taken for 1 epoch 936.3220944404602 sec\n",
      "\n",
      "Epoch 3 Batch 900 Loss 0.344279021024704\n",
      "Epoch 3 Loss 0.12920740246772766\n",
      "Time taken for 1 epoch 1052.884925365448 sec\n",
      "\n",
      "Epoch 3 Batch 1000 Loss 0.380096971988678\n",
      "Epoch 3 Loss 0.14374665915966034\n",
      "Time taken for 1 epoch 1169.5712895393372 sec\n",
      "\n",
      "Epoch 3 Batch 1100 Loss 0.3077149987220764\n",
      "Epoch 3 Loss 0.15805763006210327\n",
      "Time taken for 1 epoch 1286.0219008922577 sec\n",
      "\n",
      "Epoch 3 Batch 1200 Loss 0.41617318987846375\n",
      "Epoch 3 Loss 0.17250956594944\n",
      "Time taken for 1 epoch 1402.708702325821 sec\n",
      "\n",
      "Epoch 3 Batch 1300 Loss 0.29058945178985596\n",
      "Epoch 3 Loss 0.1871827244758606\n",
      "Time taken for 1 epoch 1519.1446185112 sec\n",
      "\n",
      "Epoch 3 Batch 1400 Loss 0.3688339293003082\n",
      "Epoch 3 Loss 0.2019587755203247\n",
      "Time taken for 1 epoch 1635.689510345459 sec\n",
      "\n",
      "Epoch 3 Batch 1500 Loss 0.43783706426620483\n",
      "Epoch 3 Loss 0.21638379991054535\n",
      "Time taken for 1 epoch 1751.9731602668762 sec\n",
      "\n",
      "Epoch 3 Batch 1600 Loss 0.4585363566875458\n",
      "Epoch 3 Loss 0.23122096061706543\n",
      "Time taken for 1 epoch 1868.3142127990723 sec\n",
      "\n",
      "Epoch 3 Batch 1700 Loss 0.3825260102748871\n",
      "Epoch 3 Loss 0.24658921360969543\n",
      "Time taken for 1 epoch 1984.8844139575958 sec\n",
      "\n",
      "Epoch 3 Batch 1800 Loss 0.421653687953949\n",
      "Epoch 3 Loss 0.26178455352783203\n",
      "Time taken for 1 epoch 2101.5505073070526 sec\n",
      "\n",
      "Epoch 3 Batch 1900 Loss 0.3227725923061371\n",
      "Epoch 3 Loss 0.2765238285064697\n",
      "Time taken for 1 epoch 2218.3056185245514 sec\n",
      "\n",
      "Epoch 3 Batch 2000 Loss 0.5126301050186157\n",
      "Epoch 3 Loss 0.291499525308609\n",
      "Time taken for 1 epoch 2335.007715702057 sec\n",
      "\n",
      "Epoch 3 Batch 2100 Loss 0.4228183627128601\n",
      "Epoch 3 Loss 0.3072962760925293\n",
      "Time taken for 1 epoch 2451.6262154579163 sec\n",
      "\n",
      "Epoch 3 Batch 2200 Loss 0.3321540057659149\n",
      "Epoch 3 Loss 0.32281872630119324\n",
      "Time taken for 1 epoch 2568.3009009361267 sec\n",
      "\n",
      "Epoch 3 Batch 2300 Loss 0.46800869703292847\n",
      "Epoch 3 Loss 0.3384096920490265\n",
      "Time taken for 1 epoch 2684.971923351288 sec\n",
      "\n",
      "Epoch 3 Batch 2400 Loss 0.47411951422691345\n",
      "Epoch 3 Loss 0.3537742495536804\n",
      "Time taken for 1 epoch 2801.2017698287964 sec\n",
      "\n",
      "Epoch 3 Batch 2500 Loss 0.4626302421092987\n",
      "Epoch 3 Loss 0.36894023418426514\n",
      "Time taken for 1 epoch 2917.3576204776764 sec\n",
      "\n",
      "Epoch 3 Batch 2600 Loss 0.3993515968322754\n",
      "Epoch 3 Loss 0.383745014667511\n",
      "Time taken for 1 epoch 3033.696283340454 sec\n",
      "\n",
      "Epoch 4 Batch 0 Loss 0.26038601994514465\n",
      "Epoch 4 Loss 9.945990314008668e-05\n",
      "Time taken for 1 epoch 1.1922507286071777 sec\n",
      "\n",
      "Epoch 4 Batch 100 Loss 0.281330406665802\n",
      "Epoch 4 Loss 0.012661591172218323\n",
      "Time taken for 1 epoch 117.63485288619995 sec\n",
      "\n",
      "Epoch 4 Batch 200 Loss 0.33591943979263306\n",
      "Epoch 4 Loss 0.024761255830526352\n",
      "Time taken for 1 epoch 234.60223364830017 sec\n",
      "\n",
      "Epoch 4 Batch 300 Loss 0.32604271173477173\n",
      "Epoch 4 Loss 0.037031758576631546\n",
      "Time taken for 1 epoch 351.1948022842407 sec\n",
      "\n",
      "Epoch 4 Batch 400 Loss 0.37028834223747253\n",
      "Epoch 4 Loss 0.04902993515133858\n",
      "Time taken for 1 epoch 468.5505361557007 sec\n",
      "\n",
      "Epoch 4 Batch 500 Loss 0.28748729825019836\n",
      "Epoch 4 Loss 0.061148907989263535\n",
      "Time taken for 1 epoch 585.6562507152557 sec\n",
      "\n",
      "Epoch 4 Batch 600 Loss 0.22070853412151337\n",
      "Epoch 4 Loss 0.0730973407626152\n",
      "Time taken for 1 epoch 702.4180748462677 sec\n",
      "\n",
      "Epoch 4 Batch 700 Loss 0.36021503806114197\n",
      "Epoch 4 Loss 0.08495265245437622\n",
      "Time taken for 1 epoch 819.5624465942383 sec\n",
      "\n",
      "Epoch 4 Batch 800 Loss 0.27345502376556396\n",
      "Epoch 4 Loss 0.09670844674110413\n",
      "Time taken for 1 epoch 936.6388759613037 sec\n",
      "\n",
      "Epoch 4 Batch 900 Loss 0.2759202718734741\n",
      "Epoch 4 Loss 0.10866989940404892\n",
      "Time taken for 1 epoch 1053.5933945178986 sec\n",
      "\n",
      "Epoch 4 Batch 1000 Loss 0.32364577054977417\n",
      "Epoch 4 Loss 0.12109261751174927\n",
      "Time taken for 1 epoch 1170.7597007751465 sec\n",
      "\n",
      "Epoch 4 Batch 1100 Loss 0.2617949843406677\n",
      "Epoch 4 Loss 0.13302890956401825\n",
      "Time taken for 1 epoch 1287.5133962631226 sec\n",
      "\n",
      "Epoch 4 Batch 1200 Loss 0.3534836769104004\n",
      "Epoch 4 Loss 0.14488938450813293\n",
      "Time taken for 1 epoch 1404.2955813407898 sec\n",
      "\n",
      "Epoch 4 Batch 1300 Loss 0.24194493889808655\n",
      "Epoch 4 Loss 0.1570909172296524\n",
      "Time taken for 1 epoch 1521.4785583019257 sec\n",
      "\n",
      "Epoch 4 Batch 1400 Loss 0.2993951141834259\n",
      "Epoch 4 Loss 0.1693178415298462\n",
      "Time taken for 1 epoch 1638.376250743866 sec\n",
      "\n",
      "Epoch 4 Batch 1500 Loss 0.3552909791469574\n",
      "Epoch 4 Loss 0.18105095624923706\n",
      "Time taken for 1 epoch 1755.2516119480133 sec\n",
      "\n",
      "Epoch 4 Batch 1600 Loss 0.405676007270813\n",
      "Epoch 4 Loss 0.19314438104629517\n",
      "Time taken for 1 epoch 1871.799153327942 sec\n",
      "\n",
      "Epoch 4 Batch 1700 Loss 0.3119915723800659\n",
      "Epoch 4 Loss 0.20553374290466309\n",
      "Time taken for 1 epoch 1988.724488735199 sec\n",
      "\n",
      "Epoch 4 Batch 1800 Loss 0.3371503949165344\n",
      "Epoch 4 Loss 0.2178930789232254\n",
      "Time taken for 1 epoch 2105.6685020923615 sec\n",
      "\n",
      "Epoch 4 Batch 1900 Loss 0.2461431324481964\n",
      "Epoch 4 Loss 0.229694664478302\n",
      "Time taken for 1 epoch 2222.757812023163 sec\n",
      "\n",
      "Epoch 4 Batch 2000 Loss 0.4231754243373871\n",
      "Epoch 4 Loss 0.24170808494091034\n",
      "Time taken for 1 epoch 2339.6665472984314 sec\n",
      "\n",
      "Epoch 4 Batch 2100 Loss 0.33192411065101624\n",
      "Epoch 4 Loss 0.25417593121528625\n",
      "Time taken for 1 epoch 2456.7808661460876 sec\n",
      "\n",
      "Epoch 4 Batch 2200 Loss 0.25219061970710754\n",
      "Epoch 4 Loss 0.26645562052726746\n",
      "Time taken for 1 epoch 2573.6948788166046 sec\n",
      "\n",
      "Epoch 4 Batch 2300 Loss 0.3685261905193329\n",
      "Epoch 4 Loss 0.2789389491081238\n",
      "Time taken for 1 epoch 2690.6958549022675 sec\n",
      "\n",
      "Epoch 4 Batch 2400 Loss 0.39169764518737793\n",
      "Epoch 4 Loss 0.2912326157093048\n",
      "Time taken for 1 epoch 2807.685545682907 sec\n",
      "\n",
      "Epoch 4 Batch 2500 Loss 0.3524315357208252\n",
      "Epoch 4 Loss 0.30340346693992615\n",
      "Time taken for 1 epoch 2924.4446358680725 sec\n",
      "\n",
      "Epoch 4 Batch 2600 Loss 0.31910404562950134\n",
      "Epoch 4 Loss 0.3152371942996979\n",
      "Time taken for 1 epoch 3041.470631122589 sec\n",
      "\n",
      "Epoch 4 Loss 0.3172\n",
      "Time taken for 1 epoch 3069.045503139496 sec\n",
      "\n",
      "Epoch 5 Batch 0 Loss 0.23624643683433533\n",
      "Epoch 5 Loss 9.023927850648761e-05\n",
      "Time taken for 1 epoch 1.2185430526733398 sec\n",
      "\n",
      "Epoch 5 Batch 100 Loss 0.25177133083343506\n",
      "Epoch 5 Loss 0.010566454380750656\n",
      "Time taken for 1 epoch 120.06471967697144 sec\n",
      "\n",
      "Epoch 5 Batch 200 Loss 0.2973177134990692\n",
      "Epoch 5 Loss 0.02075345627963543\n",
      "Time taken for 1 epoch 236.81747913360596 sec\n",
      "\n",
      "Epoch 5 Batch 300 Loss 0.26068592071533203\n",
      "Epoch 5 Loss 0.030958347022533417\n",
      "Time taken for 1 epoch 353.9100570678711 sec\n",
      "\n",
      "Epoch 5 Batch 400 Loss 0.3344137370586395\n",
      "Epoch 5 Loss 0.04104357585310936\n",
      "Time taken for 1 epoch 471.103449344635 sec\n",
      "\n",
      "Epoch 5 Batch 500 Loss 0.2356317937374115\n",
      "Epoch 5 Loss 0.05166240781545639\n",
      "Time taken for 1 epoch 588.2764134407043 sec\n",
      "\n",
      "Epoch 5 Batch 600 Loss 0.20732435584068298\n",
      "Epoch 5 Loss 0.06202913448214531\n",
      "Time taken for 1 epoch 705.209281206131 sec\n",
      "\n",
      "Epoch 5 Batch 700 Loss 0.3124554753303528\n",
      "Epoch 5 Loss 0.07216696441173553\n",
      "Time taken for 1 epoch 822.2946100234985 sec\n",
      "\n",
      "Epoch 5 Batch 800 Loss 0.22026312351226807\n",
      "Epoch 5 Loss 0.08218232542276382\n",
      "Time taken for 1 epoch 939.029114484787 sec\n",
      "\n",
      "Epoch 5 Batch 900 Loss 0.2361743450164795\n",
      "Epoch 5 Loss 0.09223886579275131\n",
      "Time taken for 1 epoch 1056.020578622818 sec\n",
      "\n",
      "Epoch 5 Batch 1000 Loss 0.26346468925476074\n",
      "Epoch 5 Loss 0.10263533890247345\n",
      "Time taken for 1 epoch 1173.2648508548737 sec\n",
      "\n",
      "Epoch 5 Batch 1100 Loss 0.21780824661254883\n",
      "Epoch 5 Loss 0.11259908229112625\n",
      "Time taken for 1 epoch 1290.621689081192 sec\n",
      "\n",
      "Epoch 5 Batch 1200 Loss 0.29179224371910095\n",
      "Epoch 5 Loss 0.12253624945878983\n",
      "Time taken for 1 epoch 1407.731011390686 sec\n",
      "\n",
      "Epoch 5 Batch 1300 Loss 0.21667826175689697\n",
      "Epoch 5 Loss 0.1328183114528656\n",
      "Time taken for 1 epoch 1525.1180646419525 sec\n",
      "\n",
      "Epoch 5 Batch 1400 Loss 0.26049262285232544\n",
      "Epoch 5 Loss 0.14315026998519897\n",
      "Time taken for 1 epoch 1642.2430098056793 sec\n",
      "\n",
      "Epoch 5 Batch 1500 Loss 0.30548664927482605\n",
      "Epoch 5 Loss 0.153218075633049\n",
      "Time taken for 1 epoch 1759.4472444057465 sec\n",
      "\n",
      "Epoch 5 Batch 1600 Loss 0.32126522064208984\n",
      "Epoch 5 Loss 0.16341207921504974\n",
      "Time taken for 1 epoch 1876.8013031482697 sec\n",
      "\n",
      "Epoch 5 Batch 1700 Loss 0.267093688249588\n",
      "Epoch 5 Loss 0.17369310557842255\n",
      "Time taken for 1 epoch 1993.819497346878 sec\n",
      "\n",
      "Epoch 5 Batch 1800 Loss 0.27976173162460327\n",
      "Epoch 5 Loss 0.18395152688026428\n",
      "Time taken for 1 epoch 2111.0084280967712 sec\n",
      "\n",
      "Epoch 5 Batch 1900 Loss 0.21816495060920715\n",
      "Epoch 5 Loss 0.19382338225841522\n",
      "Time taken for 1 epoch 2228.245362520218 sec\n",
      "\n",
      "Epoch 5 Batch 2000 Loss 0.3572123646736145\n",
      "Epoch 5 Loss 0.20435677468776703\n",
      "Time taken for 1 epoch 2345.2838702201843 sec\n",
      "\n",
      "Epoch 5 Batch 2100 Loss 0.29542747139930725\n",
      "Epoch 5 Loss 0.21488633751869202\n",
      "Time taken for 1 epoch 2462.907930135727 sec\n",
      "\n",
      "Epoch 5 Batch 2200 Loss 0.2212425172328949\n",
      "Epoch 5 Loss 0.22520872950553894\n",
      "Time taken for 1 epoch 2580.7889618873596 sec\n",
      "\n",
      "Epoch 5 Batch 2300 Loss 0.3281640112400055\n",
      "Epoch 5 Loss 0.23583541810512543\n",
      "Time taken for 1 epoch 2698.1678001880646 sec\n",
      "\n",
      "Epoch 5 Batch 2400 Loss 0.344453901052475\n",
      "Epoch 5 Loss 0.24645239114761353\n",
      "Time taken for 1 epoch 2816.0337183475494 sec\n",
      "\n",
      "Epoch 5 Batch 2500 Loss 0.3050239086151123\n",
      "Epoch 5 Loss 0.25685247778892517\n",
      "Time taken for 1 epoch 2933.1838388442993 sec\n",
      "\n",
      "Epoch 5 Batch 2600 Loss 0.27494144439697266\n",
      "Epoch 5 Loss 0.26703155040740967\n",
      "Time taken for 1 epoch 3049.7415313720703 sec\n",
      "\n",
      "Epoch 6 Batch 0 Loss 0.21609431505203247\n",
      "Epoch 6 Loss 8.25417519081384e-05\n",
      "Time taken for 1 epoch 1.1788640022277832 sec\n",
      "\n",
      "Epoch 6 Batch 100 Loss 0.23865298926830292\n",
      "Epoch 6 Loss 0.00908514391630888\n",
      "Time taken for 1 epoch 117.65535068511963 sec\n",
      "\n",
      "Epoch 6 Batch 200 Loss 0.2217848151922226\n",
      "Epoch 6 Loss 0.01797669194638729\n",
      "Time taken for 1 epoch 233.75357103347778 sec\n",
      "\n",
      "Epoch 6 Batch 300 Loss 0.22534658014774323\n",
      "Epoch 6 Loss 0.026818523183465004\n",
      "Time taken for 1 epoch 349.802001953125 sec\n",
      "\n",
      "Epoch 6 Batch 400 Loss 0.24785208702087402\n",
      "Epoch 6 Loss 0.03559219092130661\n",
      "Time taken for 1 epoch 466.2581694126129 sec\n",
      "\n",
      "Epoch 6 Batch 500 Loss 0.1988166868686676\n",
      "Epoch 6 Loss 0.045000530779361725\n",
      "Time taken for 1 epoch 582.7776935100555 sec\n",
      "\n",
      "Epoch 6 Batch 600 Loss 0.16608980298042297\n",
      "Epoch 6 Loss 0.05370412394404411\n",
      "Time taken for 1 epoch 698.9615163803101 sec\n",
      "\n",
      "Epoch 6 Batch 700 Loss 0.25626590847969055\n",
      "Epoch 6 Loss 0.06223389878869057\n",
      "Time taken for 1 epoch 814.7639484405518 sec\n",
      "\n",
      "Epoch 6 Batch 800 Loss 0.19309359788894653\n",
      "Epoch 6 Loss 0.07078440487384796\n",
      "Time taken for 1 epoch 931.0233459472656 sec\n",
      "\n",
      "Epoch 6 Batch 900 Loss 0.2091180831193924\n",
      "Epoch 6 Loss 0.07953011989593506\n",
      "Time taken for 1 epoch 1047.1491968631744 sec\n",
      "\n",
      "Epoch 6 Batch 1000 Loss 0.22233591973781586\n",
      "Epoch 6 Loss 0.08838548511266708\n",
      "Time taken for 1 epoch 1163.8606462478638 sec\n",
      "\n",
      "Epoch 6 Batch 1100 Loss 0.1773577779531479\n",
      "Epoch 6 Loss 0.09681808948516846\n",
      "Time taken for 1 epoch 1280.7218282222748 sec\n",
      "\n",
      "Epoch 6 Batch 1200 Loss 0.26555299758911133\n",
      "Epoch 6 Loss 0.10548463463783264\n",
      "Time taken for 1 epoch 1397.171630859375 sec\n",
      "\n",
      "Epoch 6 Batch 1300 Loss 0.18608145415782928\n",
      "Epoch 6 Loss 0.11429506540298462\n",
      "Time taken for 1 epoch 1513.618337392807 sec\n",
      "\n",
      "Epoch 6 Batch 1400 Loss 0.20223788917064667\n",
      "Epoch 6 Loss 0.1233721449971199\n",
      "Time taken for 1 epoch 1630.3594424724579 sec\n",
      "\n",
      "Epoch 6 Batch 1500 Loss 0.25578993558883667\n",
      "Epoch 6 Loss 0.13188600540161133\n",
      "Time taken for 1 epoch 1747.0316381454468 sec\n",
      "\n",
      "Epoch 6 Batch 1600 Loss 0.27196764945983887\n",
      "Epoch 6 Loss 0.14048726856708527\n",
      "Time taken for 1 epoch 1863.5055265426636 sec\n",
      "\n",
      "Epoch 6 Batch 1700 Loss 0.2217262089252472\n",
      "Epoch 6 Loss 0.1491525024175644\n",
      "Time taken for 1 epoch 1980.1797840595245 sec\n",
      "\n",
      "Epoch 6 Batch 1800 Loss 0.2516215741634369\n",
      "Epoch 6 Loss 0.15784227848052979\n",
      "Time taken for 1 epoch 2096.5960109233856 sec\n",
      "\n",
      "Epoch 6 Batch 1900 Loss 0.1802244484424591\n",
      "Epoch 6 Loss 0.16639146208763123\n",
      "Time taken for 1 epoch 2213.3836340904236 sec\n",
      "\n",
      "Epoch 6 Batch 2000 Loss 0.30003559589385986\n",
      "Epoch 6 Loss 0.17525514960289001\n",
      "Time taken for 1 epoch 2329.955950975418 sec\n",
      "\n",
      "Epoch 6 Batch 2100 Loss 0.2701093852519989\n",
      "Epoch 6 Loss 0.18448732793331146\n",
      "Time taken for 1 epoch 2446.502377986908 sec\n",
      "\n",
      "Epoch 6 Batch 2200 Loss 0.20138655602931976\n",
      "Epoch 6 Loss 0.19337260723114014\n",
      "Time taken for 1 epoch 2563.079730272293 sec\n",
      "\n",
      "Epoch 6 Batch 2300 Loss 0.2957012355327606\n",
      "Epoch 6 Loss 0.20253992080688477\n",
      "Time taken for 1 epoch 2679.6062903404236 sec\n",
      "\n",
      "Epoch 6 Batch 2400 Loss 0.29373639822006226\n",
      "Epoch 6 Loss 0.211651012301445\n",
      "Time taken for 1 epoch 2796.2125301361084 sec\n",
      "\n",
      "Epoch 6 Batch 2500 Loss 0.27834761142730713\n",
      "Epoch 6 Loss 0.22078581154346466\n",
      "Time taken for 1 epoch 2912.6539924144745 sec\n",
      "\n",
      "Epoch 6 Batch 2600 Loss 0.23562191426753998\n",
      "Epoch 6 Loss 0.22980445623397827\n",
      "Time taken for 1 epoch 3028.9261004924774 sec\n",
      "\n",
      "Epoch 6 Loss 0.2313\n",
      "Time taken for 1 epoch 3055.7580959796906 sec\n",
      "\n"
     ]
    }
   ],
   "source": [
    "EPOCHS=6\n",
    "for epoch in range(EPOCHS):\n",
    "    start = time.time()\n",
    "    enc_hidden = encoder.initialize_hidden_state()\n",
    "    total_loss = 0\n",
    "\n",
    "    # train the model using data in bataches \n",
    "    for (batch, (inp, targ)) in enumerate(dataset.take(steps_per_epoch)):\n",
    "        batch_loss = train_step(inp, targ, enc_hidden)\n",
    "        total_loss += batch_loss\n",
    "        if batch % 100 == 0:\n",
    "            print('Epoch {} Batch {} Loss {}'.format(epoch + 1,batch,batch_loss.numpy()))\n",
    "            print('Epoch {} Loss {}'.format(epoch + 1,total_loss / steps_per_epoch))\n",
    "            print('Time taken for 1 epoch {} sec\\n'.format(time.time() - start))\n",
    "    if (epoch + 1) % 2 == 0:       \n",
    "        checkpoint.save(file_prefix = checkpoint_prefix)\n",
    "        print('Epoch {} Loss {:.4f}'.format(epoch + 1,total_loss / steps_per_epoch))\n",
    "        print('Time taken for 1 epoch {} sec\\n'.format(time.time() - start))"
   ]
  },
  {
   "cell_type": "code",
   "execution_count": 32,
   "metadata": {
    "colab": {},
    "colab_type": "code",
    "id": "SgVSnJmRBuQm"
   },
   "outputs": [],
   "source": [
    " def evaluate(sentence):\n",
    "  attention_plot = np.zeros((max_length_targ, max_length_inp))\n",
    "\n",
    "  sentence = preprocess_sentence(sentence)\n",
    "  \n",
    "  inputs = [inp_lang.word_index[i] for i in sentence.split()]\n",
    "  \n",
    "  inputs = tf.keras.preprocessing.sequence.pad_sequences([inputs],\n",
    "                                                         maxlen=max_length_inp,\n",
    "                                                         padding='post')\n",
    "  inputs = tf.convert_to_tensor(inputs)\n",
    "\n",
    "  result = ''\n",
    "\n",
    "  hidden = [tf.zeros((1, units))]\n",
    "  enc_out, enc_hidden = encoder(inputs, hidden)\n",
    "\n",
    "  dec_hidden = enc_hidden\n",
    "  dec_input = tf.expand_dims([targ_lang.word_index['start_']], 0)\n",
    "\n",
    "  for t in range(max_length_targ):\n",
    "    predictions, dec_hidden, attention_weights = decoder(dec_input,\n",
    "                                                         dec_hidden,\n",
    "                                                         enc_out)\n",
    "\n",
    "    # storing the attention weights to plot later on\n",
    "    attention_weights = tf.reshape(attention_weights, (-1, ))\n",
    "    attention_plot[t] = attention_weights.numpy()\n",
    "\n",
    "    predicted_id = tf.argmax(predictions[0]).numpy()\n",
    "\n",
    "    result += targ_lang.index_word[predicted_id] + ' '\n",
    "\n",
    "    if targ_lang.index_word[predicted_id] == '_end':\n",
    "      return result, sentence, attention_plot\n",
    "\n",
    "    # the predicted ID is fed back into the model\n",
    "    dec_input = tf.expand_dims([predicted_id], 0)\n",
    "\n",
    "  return result, sentence, attention_plot"
   ]
  },
  {
   "cell_type": "code",
   "execution_count": 35,
   "metadata": {
    "colab": {},
    "colab_type": "code",
    "id": "8KCpbqNxBuQp"
   },
   "outputs": [],
   "source": [
    "# function for plotting the attention weights\n",
    "def plot_attention(attention, sentence, predicted_sentence):\n",
    "  hindi_font = FontProperties(fname = '/content/drive/My Drive/project/NMTV2/Nirmala.ttf')\n",
    "  fig = plt.figure(figsize=(10,10))\n",
    "  ax = fig.add_subplot(1, 1, 1)\n",
    "  ax.matshow(attention, cmap='viridis')\n",
    "\n",
    "  fontdict = {'fontsize': 20}\n",
    "\n",
    "  ax.set_xticklabels([''] + sentence, fontdict=fontdict, rotation=90)\n",
    "  ax.set_yticklabels([''] + predicted_sentence, fontdict=fontdict,fontproperties = hindi_font)\n",
    "  # print(sentence)\n",
    "  # print(predicted_sentence)\n",
    "  #plt.yticks(list(range(len(predicted_sentence))), predicted_sentence, fontproperties = hindi_font)\n",
    "\n",
    "  ax.xaxis.set_major_locator(ticker.MultipleLocator(1))\n",
    "  ax.yaxis.set_major_locator(ticker.MultipleLocator(1))\n",
    "\n",
    "  #plt.show()"
   ]
  },
  {
   "cell_type": "code",
   "execution_count": 36,
   "metadata": {
    "colab": {},
    "colab_type": "code",
    "id": "xK9Iqb-jBuQr"
   },
   "outputs": [],
   "source": [
    "def translate(sentence):\n",
    "  result, sentence, attention_plot = evaluate(sentence)\n",
    "\n",
    "  print('Input: %s' % (sentence))\n",
    "  print('Predicted translation: {}'.format(result))\n",
    "\n",
    "  attention_plot = attention_plot[:len(result.split(' ')), :len(sentence.split(' '))]\n",
    "  plot_attention(attention_plot, sentence.split(' '), result.split(' '))"
   ]
  },
  {
   "cell_type": "code",
   "execution_count": 37,
   "metadata": {
    "colab": {},
    "colab_type": "code",
    "id": "NGM-XgBMBuQt"
   },
   "outputs": [],
   "source": [
    "# restoring the latest checkpoint in checkpoint_dir\n",
    "#checkpoint.restore(tf.train.latest_checkpoint(checkpoint_dir))"
   ]
  },
  {
   "cell_type": "markdown",
   "metadata": {
    "colab_type": "text",
    "id": "MtvsfO5317ET"
   },
   "source": [
    "Some test examples"
   ]
  },
  {
   "cell_type": "code",
   "execution_count": 38,
   "metadata": {
    "colab": {
     "base_uri": "https://localhost:8080/",
     "height": 676
    },
    "colab_type": "code",
    "id": "c29XHtd4BuQv",
    "outputId": "42b4cf9c-572d-421a-866e-ddcb68eb6a75"
   },
   "outputs": [
    {
     "name": "stdout",
     "output_type": "stream",
     "text": [
      "Input: start_ so i went back there _end\n",
      "Predicted translation: तो मैं वापस वहीं पर पहुँच गया _end \n"
     ]
    },
    {
     "data": {
      "image/png": "[encoded data removed]",
      "text/plain": [
       "<Figure size 720x720 with 1 Axes>"
      ]
     },
     "metadata": {
      "needs_background": "light",
      "tags": []
     },
     "output_type": "display_data"
    }
   ],
   "source": [
    "translate('So I went back there')"
   ]
  },
  {
   "cell_type": "code",
   "execution_count": 39,
   "metadata": {
    "colab": {
     "base_uri": "https://localhost:8080/",
     "height": 676
    },
    "colab_type": "code",
    "id": "1hjYdyQLBuQ3",
    "outputId": "63f9274b-6510-4108-8850-ae5ccc3b56f8"
   },
   "outputs": [
    {
     "name": "stdout",
     "output_type": "stream",
     "text": [
      "Input: start_ i am going to work _end\n",
      "Predicted translation: मैं खेलने जा रही हूँ _end \n"
     ]
    },
    {
     "data": {
      "image/png": "[encoded data removed]",
      "text/plain": [
       "<Figure size 720x720 with 1 Axes>"
      ]
     },
     "metadata": {
      "needs_background": "light",
      "tags": []
     },
     "output_type": "display_data"
    }
   ],
   "source": [
    "translate('I am going to work.')"
   ]
  },
  {
   "cell_type": "code",
   "execution_count": 41,
   "metadata": {
    "colab": {
     "base_uri": "https://localhost:8080/",
     "height": 676
    },
    "colab_type": "code",
    "id": "ZHjNjjrVS_pE",
    "outputId": "ba5adc5e-842d-44a0-c941-d4ab7aea6038"
   },
   "outputs": [
    {
     "name": "stdout",
     "output_type": "stream",
     "text": [
      "Input: start_ i am going to play _end\n",
      "Predicted translation: मैं खेलने जा रहा हूँ । _end \n"
     ]
    },
    {
     "data": {
      "image/png": "[encoded data removed]",
      "text/plain": [
       "<Figure size 720x720 with 1 Axes>"
      ]
     },
     "metadata": {
      "needs_background": "light",
      "tags": []
     },
     "output_type": "display_data"
    }
   ],
   "source": [
    "translate('I am going to play.')"
   ]
  },
  {
   "cell_type": "code",
   "execution_count": 42,
   "metadata": {
    "colab": {
     "base_uri": "https://localhost:8080/",
     "height": 689
    },
    "colab_type": "code",
    "id": "P7sQhxEJKT9P",
    "outputId": "f8f1cef4-8d95-45f2-89b3-415a09d446b6"
   },
   "outputs": [
    {
     "name": "stdout",
     "output_type": "stream",
     "text": [
      "Input: start_ this is a good project _end\n",
      "Predicted translation: यह अच्छी परियोजना है । _end \n"
     ]
    },
    {
     "data": {
      "image/png": "[encoded data removed]",
      "text/plain": [
       "<Figure size 720x720 with 1 Axes>"
      ]
     },
     "metadata": {
      "needs_background": "light",
      "tags": []
     },
     "output_type": "display_data"
    }
   ],
   "source": [
    "translate('This is a good project')"
   ]
  },
  {
   "cell_type": "code",
   "execution_count": null,
   "metadata": {
    "colab": {},
    "colab_type": "code",
    "id": "PmFYrMflKUAD"
   },
   "outputs": [],
   "source": []
  },
  {
   "cell_type": "code",
   "execution_count": null,
   "metadata": {
    "colab": {},
    "colab_type": "code",
    "id": "9jnnzVtIBuQ6"
   },
   "outputs": [],
   "source": []
  },
  {
   "cell_type": "code",
   "execution_count": null,
   "metadata": {
    "colab": {},
    "colab_type": "code",
    "id": "mHeyPAfhBuQ7"
   },
   "outputs": [],
   "source": []
  }
 ],
 "metadata": {
  "accelerator": "GPU",
  "colab": {
   "collapsed_sections": [],
   "machine_shape": "hm",
   "name": "NMTV3_1.ipynb",
   "provenance": []
  },
  "kernelspec": {
   "display_name": "Python 3",
   "language": "python",
   "name": "python3"
  },
  "language_info": {
   "codemirror_mode": {
    "name": "ipython",
    "version": 3
   },
   "file_extension": ".py",
   "mimetype": "text/x-python",
   "name": "python",
   "nbconvert_exporter": "python",
   "pygments_lexer": "ipython3",
   "version": "3.7.4"
  }
 },
 "nbformat": 4,
 "nbformat_minor": 1
}
